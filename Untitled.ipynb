{
 "cells": [
  {
   "cell_type": "code",
   "execution_count": 5,
   "metadata": {},
   "outputs": [],
   "source": [
    "\n",
    "import os\n",
    "import streamlit as st\n",
    "import numpy as np\n",
    "import pandas as pd\n",
    "import pycaret\n",
    "from pycaret.classification import *\n",
    "import joblib\n",
    "from joblib import load\n",
    "import streamlit as st\n",
    "import _pickle as pickle\n",
    "from pprint import pformat\n",
    "from pycaret.regression import *\n",
    "from PIL import Image\n",
    "import markdown"
   ]
  },
  {
   "cell_type": "code",
   "execution_count": 2,
   "metadata": {},
   "outputs": [
    {
     "name": "stdout",
     "output_type": "stream",
     "text": [
      "Requirement already satisfied: markdown in c:\\users\\saiteja\\anaconda3\\lib\\site-packages (3.2.2)\n"
     ]
    }
   ],
   "source": [
    "!pip install markdown"
   ]
  },
  {
   "cell_type": "code",
   "execution_count": 7,
   "metadata": {},
   "outputs": [
    {
     "name": "stdout",
     "output_type": "stream",
     "text": [
      "image/png\n",
      "image/png\n",
      "Transformation Pipeline and Model Sucessfully Loaded\n"
     ]
    }
   ],
   "source": [
    "        image = Image.open('sai_app_header.png')\n",
    "        st.image(image,use_column_width=True)\n",
    "        with open(\"README.md\", \"r\", encoding=\"utf-8\") as input_file:\n",
    "           text = input_file.read()\n",
    "        intro_markdown=markdown.markdown(text)\n",
    "        st.markdown(intro_markdown, unsafe_allow_html=True)\n",
    "        \n",
    "        image_1 = Image.open('data_intro.png')\n",
    "        st.image(image_1,use_column_width=True)\n",
    "        \n",
    "        st.subheader(\"Click On Predict to know the Diamond Price (USD)\")\n",
    "        \n",
    "        import pandas as pd\n",
    "        df=pd.read_csv(\"diamond.csv\")\n",
    "        temp = df.to_dict('list')\n",
    "        temp['Cut'] = list(set(temp['Cut']))\n",
    "        temp['Color'] = list(set(temp['Color']))\n",
    "        temp['Clarity'] = list(set(temp['Clarity']))\n",
    "        temp['Polish'] = list(set(temp['Polish']))\n",
    "        temp['Symmetry'] = list(set(temp['Symmetry']))\n",
    "        temp['Report'] = list(set(temp['Report']))\n",
    "\n",
    "        temp_records = df.to_dict('records')\n",
    "        \n",
    "        st.sidebar.markdown(\"## Select Metrics Below\")\n",
    "        #CARAT WEIGHT\n",
    "        Carat_Weight_list = st.sidebar.number_input('Carat Weight')\n",
    "        #Checkbox for CUT\n",
    "        CUT_list = st.sidebar.selectbox(\"Select CUT\", temp['Cut'])\n",
    "        #Checkbox for Color\n",
    "        Color_list = st.sidebar.selectbox(\"Select Color\", temp['Color'])\n",
    "        #Checkbox for Clarity\n",
    "        Clarity_list = st.sidebar.selectbox(\"Select Clarity\", temp['Clarity'])\n",
    "        #Checkbox for Polish\n",
    "        Polish_list = st.sidebar.selectbox(\"Select Polish\", temp['Polish'])\n",
    "        #Checkbox for Symmetry\n",
    "        Symmetry_list = st.sidebar.selectbox(\"Select Symmetry\", temp['Symmetry'])\n",
    "        #Checkbox for Report\n",
    "        Symmetry_list = st.sidebar.selectbox(\"Select Report\", temp['Report'])\n",
    "        \n",
    "        \n",
    "        \n",
    "        #features \n",
    "        cols = ['Carat Weight', 'Cut', 'Color','Clarity','Polish','Symmetry','Report']\n",
    "        # store the inputs\n",
    "        features = [Carat_Weight_list, CUT_list, Color_list,Clarity_list,Polish_list,Symmetry_list,Symmetry_list]\n",
    "        \n",
    "        model=pycaret.classification.load_model('Sai_LGBM')\n",
    "\n",
    "\n",
    "        if st.button('Predict'): # when the submit button is pressed\n",
    "           data_unseen=pd.DataFrame([features],columns=cols)\n",
    "           prediction=predict_model(model,data=data_unseen,round=0)\n",
    "           pred=int(prediction.Label[0])\n",
    "           #st.dataframe(prediction)\n",
    "           st.balloons()\n",
    "           st.success(f'Price is:  {pred}')\n",
    "         "
   ]
  },
  {
   "cell_type": "code",
   "execution_count": 14,
   "metadata": {},
   "outputs": [],
   "source": [
    "prediction=predict_model(model,data=data_unseen,round=0)\n"
   ]
  },
  {
   "cell_type": "code",
   "execution_count": 11,
   "metadata": {},
   "outputs": [],
   "source": [
    "data_unseen=pd.DataFrame([features],columns=cols)"
   ]
  },
  {
   "cell_type": "code",
   "execution_count": 12,
   "metadata": {},
   "outputs": [
    {
     "data": {
      "text/plain": [
       "[Pipeline(steps=[('dtypes',\n",
       "                  DataTypes_Auto_infer(ml_usecase='regression', target='Price')),\n",
       "                 ('imputer',\n",
       "                  Simple_Imputer(categorical_strategy='not_available',\n",
       "                                 numeric_strategy='mean',\n",
       "                                 target_variable=None)),\n",
       "                 ('new_levels1',\n",
       "                  New_Catagorical_Levels_in_TestData(replacement_strategy='least '\n",
       "                                                                          'frequent',\n",
       "                                                     target='Price')),\n",
       "                 ('ordinal', Empty()), ('cardinality', Empty()),\n",
       "                 ('...\n",
       "                 ('feature_time', Make_Time_Features(list_of_features=None)),\n",
       "                 ('group', Empty()), ('nonliner', Empty()), ('scaling', Empty()),\n",
       "                 ('P_transform', Empty()), ('pt_target', Empty()),\n",
       "                 ('binn', Empty()), ('rem_outliers', Empty()),\n",
       "                 ('cluster_all', Empty()), ('dummy', Dummify(target='Price')),\n",
       "                 ('fix_perfect', Empty()), ('clean_names', Clean_Colum_Names()),\n",
       "                 ('feature_select', Empty()), ('fix_multi', Empty()),\n",
       "                 ('dfs', Empty()), ('pca', Empty())]),\n",
       " LGBMRegressor(random_state=123),\n",
       " None]"
      ]
     },
     "execution_count": 12,
     "metadata": {},
     "output_type": "execute_result"
    }
   ],
   "source": [
    "model"
   ]
  },
  {
   "cell_type": "code",
   "execution_count": 13,
   "metadata": {},
   "outputs": [
    {
     "data": {
      "text/plain": [
       "['Carat Weight', 'Cut', 'Color', 'Clarity', 'Polish', 'Symmetry', 'Report']"
      ]
     },
     "execution_count": 13,
     "metadata": {},
     "output_type": "execute_result"
    }
   ],
   "source": [
    "cols"
   ]
  },
  {
   "cell_type": "code",
   "execution_count": null,
   "metadata": {},
   "outputs": [],
   "source": []
  }
 ],
 "metadata": {
  "kernelspec": {
   "display_name": "Python 3",
   "language": "python",
   "name": "python3"
  },
  "language_info": {
   "codemirror_mode": {
    "name": "ipython",
    "version": 3
   },
   "file_extension": ".py",
   "mimetype": "text/x-python",
   "name": "python",
   "nbconvert_exporter": "python",
   "pygments_lexer": "ipython3",
   "version": "3.8.3"
  }
 },
 "nbformat": 4,
 "nbformat_minor": 4
}
